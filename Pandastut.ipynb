{
 "cells": [
  {
   "cell_type": "markdown",
   "metadata": {},
   "source": [
    "## Pandas is an open source,BSD licensed library producing high performance easy to use data structures and data analysis tools for the python programming language.\n",
    "\n",
    "\n",
    "### Pandas deals with following three data structures:\n",
    "#### Series \n",
    "### Data Frame\n",
    "### Panel"
   ]
  },
  {
   "cell_type": "markdown",
   "metadata": {},
   "source": [
    "## Data Frame\n",
    "### It is a two dimensional array with heterogenous data.DF are size mutable and data mutable."
   ]
  },
  {
   "cell_type": "code",
   "execution_count": 2,
   "metadata": {},
   "outputs": [],
   "source": [
    "# Lets create a data frame\n",
    "## Basic DF --> Empty Df\n",
    "## import pandas libraray as pandas and alising as pd\n",
    "import pandas as pd\n",
    "df=pd.DataFrame()"
   ]
  },
  {
   "cell_type": "code",
   "execution_count": 3,
   "metadata": {},
   "outputs": [
    {
     "name": "stdout",
     "output_type": "stream",
     "text": [
      "Empty DataFrame\n",
      "Columns: []\n",
      "Index: []\n"
     ]
    }
   ],
   "source": [
    "print(df)"
   ]
  },
  {
   "cell_type": "code",
   "execution_count": 5,
   "metadata": {},
   "outputs": [
    {
     "name": "stdout",
     "output_type": "stream",
     "text": [
      "   0\n",
      "0  1\n",
      "1  2\n",
      "2  3\n",
      "3  4\n",
      "4  5\n"
     ]
    }
   ],
   "source": [
    "# Create DF from list.\n",
    "data=[1,2,3,4,5]\n",
    "df=pd.DataFrame(data)\n",
    "print(df)"
   ]
  },
  {
   "cell_type": "code",
   "execution_count": 9,
   "metadata": {},
   "outputs": [
    {
     "name": "stdout",
     "output_type": "stream",
     "text": [
      "     Name  Age\n",
      "0  Suresh   12\n",
      "1     Ram   20\n",
      "2     Tom   30\n"
     ]
    }
   ],
   "source": [
    "import pandas as pd\n",
    "data=[['Suresh',12],['Ram',20],['Tom',30]]\n",
    "df=pd.DataFrame(data,columns=['Name','Age'])\n",
    "print(df)"
   ]
  },
  {
   "cell_type": "code",
   "execution_count": 11,
   "metadata": {},
   "outputs": [
    {
     "name": "stdout",
     "output_type": "stream",
     "text": [
      "     Name  Age\n",
      "0  Suresh   12\n",
      "1     Ram   20\n",
      "2     TOm   30\n"
     ]
    }
   ],
   "source": [
    "#Creatind DF from dict of ndarray/List\n",
    "import pandas as pd\n",
    "data={'Name':['Suresh','Ram','TOm'],'Age':[12,20,30]}\n",
    "df=pd.DataFrame(data)\n",
    "print(df)"
   ]
  },
  {
   "cell_type": "code",
   "execution_count": 12,
   "metadata": {},
   "outputs": [
    {
     "name": "stdout",
     "output_type": "stream",
     "text": [
      "         Name  Age\n",
      "Rank1     Ram   10\n",
      "Rank2   Shyam   20\n",
      "Rank3  Suresh   30\n"
     ]
    }
   ],
   "source": [
    "data={'Name':['Ram','Shyam','Suresh'],'Age':[10,20,30]}\n",
    "df=pd.DataFrame(data,index=['Rank1','Rank2','Rank3'])\n",
    "print(df)"
   ]
  },
  {
   "cell_type": "code",
   "execution_count": 13,
   "metadata": {},
   "outputs": [
    {
     "name": "stdout",
     "output_type": "stream",
     "text": [
      "   a   b    c\n",
      "0  1   2  NaN\n",
      "1  5  10  9.0\n"
     ]
    }
   ],
   "source": [
    "#create DF from list of Dict\n",
    "data=[{'a':1,'b':2},{'a':5,'b':10,'c':9}]\n",
    "df=pd.DataFrame(data)\n",
    "print(df)"
   ]
  },
  {
   "cell_type": "code",
   "execution_count": 19,
   "metadata": {},
   "outputs": [
    {
     "name": "stdout",
     "output_type": "stream",
     "text": [
      "a    1.0\n",
      "b    2.0\n",
      "c    3.0\n",
      "d    NaN\n",
      "Name: one, dtype: float64\n"
     ]
    }
   ],
   "source": [
    "#create Df from the list of series\n",
    "import pandas as pd\n",
    "d ={'one':pd.Series([1,2,3],index=['a','b','c']),'two':pd.Series([1,2,3,4],index=['a','b','c','d'])}\n",
    "df=pd.DataFrame(d)\n",
    "print(df['one'])"
   ]
  },
  {
   "cell_type": "code",
   "execution_count": 20,
   "metadata": {},
   "outputs": [
    {
     "name": "stdout",
     "output_type": "stream",
     "text": [
      "   one  two\n",
      "a  1.0    1\n",
      "b  2.0    2\n",
      "c  3.0    3\n",
      "d  NaN    4\n"
     ]
    }
   ],
   "source": [
    "print(df)"
   ]
  },
  {
   "cell_type": "code",
   "execution_count": 1,
   "metadata": {},
   "outputs": [
    {
     "name": "stdout",
     "output_type": "stream",
     "text": [
      "      COLUMN1  COLUMN2  COLUMN3  COLUMN4\n",
      "ROW1        0        1        2        3\n",
      "ROW2        4        5        6        7\n",
      "ROW3        8        9       10       11\n",
      "ROW4       12       13       14       15\n",
      "ROW5       16       17       18       19\n"
     ]
    }
   ],
   "source": [
    "import pandas as pd \n",
    "import numpy as np\n",
    "#Playing with Data frame\n",
    "df=pd.DataFrame(np.arange(0,20).reshape(5,4),index=['ROW1','ROW2','ROW3','ROW4','ROW5'],columns=['COLUMN1','COLUMN2','COLUMN3','COLUMN4'])\n",
    "print(df)"
   ]
  },
  {
   "cell_type": "code",
   "execution_count": 2,
   "metadata": {},
   "outputs": [],
   "source": [
    "df.to_csv('Test1.csv')"
   ]
  },
  {
   "cell_type": "code",
   "execution_count": 3,
   "metadata": {},
   "outputs": [
    {
     "data": {
      "text/plain": [
       "COLUMN1    0\n",
       "COLUMN2    1\n",
       "COLUMN3    2\n",
       "COLUMN4    3\n",
       "Name: ROW1, dtype: int32"
      ]
     },
     "execution_count": 3,
     "metadata": {},
     "output_type": "execute_result"
    }
   ],
   "source": [
    "df.loc['ROW1'] # acessing the elements 1. loc 2. iloc"
   ]
  },
  {
   "cell_type": "code",
   "execution_count": 4,
   "metadata": {},
   "outputs": [
    {
     "data": {
      "text/plain": [
       "pandas.core.series.Series"
      ]
     },
     "execution_count": 4,
     "metadata": {},
     "output_type": "execute_result"
    }
   ],
   "source": [
    "#Check the type\n",
    "type(df.loc['ROW1'])\n"
   ]
  },
  {
   "cell_type": "code",
   "execution_count": 5,
   "metadata": {},
   "outputs": [
    {
     "data": {
      "text/html": [
       "<div>\n",
       "<style scoped>\n",
       "    .dataframe tbody tr th:only-of-type {\n",
       "        vertical-align: middle;\n",
       "    }\n",
       "\n",
       "    .dataframe tbody tr th {\n",
       "        vertical-align: top;\n",
       "    }\n",
       "\n",
       "    .dataframe thead th {\n",
       "        text-align: right;\n",
       "    }\n",
       "</style>\n",
       "<table border=\"1\" class=\"dataframe\">\n",
       "  <thead>\n",
       "    <tr style=\"text-align: right;\">\n",
       "      <th></th>\n",
       "      <th>COLUMN1</th>\n",
       "      <th>COLUMN2</th>\n",
       "      <th>COLUMN3</th>\n",
       "      <th>COLUMN4</th>\n",
       "    </tr>\n",
       "  </thead>\n",
       "  <tbody>\n",
       "    <tr>\n",
       "      <td>ROW1</td>\n",
       "      <td>0</td>\n",
       "      <td>1</td>\n",
       "      <td>2</td>\n",
       "      <td>3</td>\n",
       "    </tr>\n",
       "    <tr>\n",
       "      <td>ROW2</td>\n",
       "      <td>4</td>\n",
       "      <td>5</td>\n",
       "      <td>6</td>\n",
       "      <td>7</td>\n",
       "    </tr>\n",
       "    <tr>\n",
       "      <td>ROW3</td>\n",
       "      <td>8</td>\n",
       "      <td>9</td>\n",
       "      <td>10</td>\n",
       "      <td>11</td>\n",
       "    </tr>\n",
       "    <tr>\n",
       "      <td>ROW4</td>\n",
       "      <td>12</td>\n",
       "      <td>13</td>\n",
       "      <td>14</td>\n",
       "      <td>15</td>\n",
       "    </tr>\n",
       "    <tr>\n",
       "      <td>ROW5</td>\n",
       "      <td>16</td>\n",
       "      <td>17</td>\n",
       "      <td>18</td>\n",
       "      <td>19</td>\n",
       "    </tr>\n",
       "  </tbody>\n",
       "</table>\n",
       "</div>"
      ],
      "text/plain": [
       "      COLUMN1  COLUMN2  COLUMN3  COLUMN4\n",
       "ROW1        0        1        2        3\n",
       "ROW2        4        5        6        7\n",
       "ROW3        8        9       10       11\n",
       "ROW4       12       13       14       15\n",
       "ROW5       16       17       18       19"
      ]
     },
     "execution_count": 5,
     "metadata": {},
     "output_type": "execute_result"
    }
   ],
   "source": [
    "df.iloc[:,:]"
   ]
  },
  {
   "cell_type": "code",
   "execution_count": 6,
   "metadata": {},
   "outputs": [
    {
     "data": {
      "text/html": [
       "<div>\n",
       "<style scoped>\n",
       "    .dataframe tbody tr th:only-of-type {\n",
       "        vertical-align: middle;\n",
       "    }\n",
       "\n",
       "    .dataframe tbody tr th {\n",
       "        vertical-align: top;\n",
       "    }\n",
       "\n",
       "    .dataframe thead th {\n",
       "        text-align: right;\n",
       "    }\n",
       "</style>\n",
       "<table border=\"1\" class=\"dataframe\">\n",
       "  <thead>\n",
       "    <tr style=\"text-align: right;\">\n",
       "      <th></th>\n",
       "      <th>COLUMN1</th>\n",
       "      <th>COLUMN2</th>\n",
       "    </tr>\n",
       "  </thead>\n",
       "  <tbody>\n",
       "    <tr>\n",
       "      <td>ROW1</td>\n",
       "      <td>0</td>\n",
       "      <td>1</td>\n",
       "    </tr>\n",
       "    <tr>\n",
       "      <td>ROW2</td>\n",
       "      <td>4</td>\n",
       "      <td>5</td>\n",
       "    </tr>\n",
       "  </tbody>\n",
       "</table>\n",
       "</div>"
      ],
      "text/plain": [
       "      COLUMN1  COLUMN2\n",
       "ROW1        0        1\n",
       "ROW2        4        5"
      ]
     },
     "execution_count": 6,
     "metadata": {},
     "output_type": "execute_result"
    }
   ],
   "source": [
    "df.iloc[0:2,0:2]"
   ]
  },
  {
   "cell_type": "markdown",
   "metadata": {},
   "source": [
    "### Grouping Data"
   ]
  },
  {
   "cell_type": "code",
   "execution_count": 1,
   "metadata": {},
   "outputs": [],
   "source": [
    "import pandas as pd"
   ]
  },
  {
   "cell_type": "code",
   "execution_count": 2,
   "metadata": {},
   "outputs": [
    {
     "name": "stdout",
     "output_type": "stream",
     "text": [
      "     Name  Age    City Qualification\n",
      "0     Ram   20  Nagpur            CA\n",
      "1  Raghav   30    Pune           B.E\n",
      "2  Madhav   35  Mumbai         MTECH\n",
      "3   Mukul   25    Agra          B.SC\n",
      "4   Rohit   21  Nashik            CS\n"
     ]
    }
   ],
   "source": [
    "# create dictionary of employee data and convert it to df\n",
    "data = {'Name': ['Ram','Raghav','Madhav','Mukul','Rohit'],\n",
    "       'Age':[20,30,35,25,21],\n",
    "       'City':['Nagpur','Pune','Mumbai','Agra','Nashik'],\n",
    "       'Qualification':['CA','B.E','MTECH','B.SC','CS']}\n",
    "df1 = pd.DataFrame(data)\n",
    "print(df1)"
   ]
  },
  {
   "cell_type": "code",
   "execution_count": 3,
   "metadata": {},
   "outputs": [
    {
     "data": {
      "text/plain": [
       "<pandas.core.groupby.generic.DataFrameGroupBy object at 0x000000C689114608>"
      ]
     },
     "execution_count": 3,
     "metadata": {},
     "output_type": "execute_result"
    }
   ],
   "source": [
    "#Now we group a data of Name using groupby() function.\n",
    "#Using groupby function with one key\n",
    "df1.groupby('Name')"
   ]
  },
  {
   "cell_type": "code",
   "execution_count": 4,
   "metadata": {},
   "outputs": [
    {
     "name": "stdout",
     "output_type": "stream",
     "text": [
      "{'Madhav': Int64Index([2], dtype='int64'), 'Mukul': Int64Index([3], dtype='int64'), 'Raghav': Int64Index([1], dtype='int64'), 'Ram': Int64Index([0], dtype='int64'), 'Rohit': Int64Index([4], dtype='int64')}\n"
     ]
    }
   ],
   "source": [
    "print(df1.groupby('Name').groups)"
   ]
  },
  {
   "cell_type": "code",
   "execution_count": 6,
   "metadata": {},
   "outputs": [
    {
     "name": "stdout",
     "output_type": "stream",
     "text": [
      "      Name  Age    City Qualification\n",
      "0   Mayuri   20  Nagpur         B.COM\n",
      "1  Manjiri   30    Pune           B.E\n",
      "2    Rucha   35  Mumbai         M.COM\n",
      "3    Sanvi   25    Agra          B.SC\n",
      "4     Mona   21  Nashik            CS\n"
     ]
    }
   ],
   "source": [
    "data1 = {'Name': ['Mayuri','Manjiri','Rucha','Sanvi','Mona'],\n",
    "       'Age':[20,30,35,25,21],\n",
    "       'City':['Nagpur','Pune','Mumbai','Agra','Nashik'],\n",
    "       'Qualification':['B.COM','B.E','M.COM','B.SC','CS']}\n",
    "df2 = pd.DataFrame(data1)\n",
    "print(df2)"
   ]
  },
  {
   "cell_type": "code",
   "execution_count": 8,
   "metadata": {},
   "outputs": [
    {
     "data": {
      "text/html": [
       "<div>\n",
       "<style scoped>\n",
       "    .dataframe tbody tr th:only-of-type {\n",
       "        vertical-align: middle;\n",
       "    }\n",
       "\n",
       "    .dataframe tbody tr th {\n",
       "        vertical-align: top;\n",
       "    }\n",
       "\n",
       "    .dataframe thead th {\n",
       "        text-align: right;\n",
       "    }\n",
       "</style>\n",
       "<table border=\"1\" class=\"dataframe\">\n",
       "  <thead>\n",
       "    <tr style=\"text-align: right;\">\n",
       "      <th></th>\n",
       "      <th>Name</th>\n",
       "      <th>Age</th>\n",
       "      <th>City</th>\n",
       "      <th>Qualification</th>\n",
       "    </tr>\n",
       "  </thead>\n",
       "  <tbody>\n",
       "    <tr>\n",
       "      <td>0</td>\n",
       "      <td>Ram</td>\n",
       "      <td>20</td>\n",
       "      <td>Nagpur</td>\n",
       "      <td>CA</td>\n",
       "    </tr>\n",
       "    <tr>\n",
       "      <td>1</td>\n",
       "      <td>Raghav</td>\n",
       "      <td>30</td>\n",
       "      <td>Pune</td>\n",
       "      <td>B.E</td>\n",
       "    </tr>\n",
       "    <tr>\n",
       "      <td>2</td>\n",
       "      <td>Madhav</td>\n",
       "      <td>35</td>\n",
       "      <td>Mumbai</td>\n",
       "      <td>MTECH</td>\n",
       "    </tr>\n",
       "    <tr>\n",
       "      <td>3</td>\n",
       "      <td>Mukul</td>\n",
       "      <td>25</td>\n",
       "      <td>Agra</td>\n",
       "      <td>B.SC</td>\n",
       "    </tr>\n",
       "    <tr>\n",
       "      <td>4</td>\n",
       "      <td>Rohit</td>\n",
       "      <td>21</td>\n",
       "      <td>Nashik</td>\n",
       "      <td>CS</td>\n",
       "    </tr>\n",
       "    <tr>\n",
       "      <td>5</td>\n",
       "      <td>Mayuri</td>\n",
       "      <td>20</td>\n",
       "      <td>Nagpur</td>\n",
       "      <td>B.COM</td>\n",
       "    </tr>\n",
       "    <tr>\n",
       "      <td>6</td>\n",
       "      <td>Manjiri</td>\n",
       "      <td>30</td>\n",
       "      <td>Pune</td>\n",
       "      <td>B.E</td>\n",
       "    </tr>\n",
       "    <tr>\n",
       "      <td>7</td>\n",
       "      <td>Rucha</td>\n",
       "      <td>35</td>\n",
       "      <td>Mumbai</td>\n",
       "      <td>M.COM</td>\n",
       "    </tr>\n",
       "    <tr>\n",
       "      <td>8</td>\n",
       "      <td>Sanvi</td>\n",
       "      <td>25</td>\n",
       "      <td>Agra</td>\n",
       "      <td>B.SC</td>\n",
       "    </tr>\n",
       "    <tr>\n",
       "      <td>9</td>\n",
       "      <td>Mona</td>\n",
       "      <td>21</td>\n",
       "      <td>Nashik</td>\n",
       "      <td>CS</td>\n",
       "    </tr>\n",
       "  </tbody>\n",
       "</table>\n",
       "</div>"
      ],
      "text/plain": [
       "      Name  Age    City Qualification\n",
       "0      Ram   20  Nagpur            CA\n",
       "1   Raghav   30    Pune           B.E\n",
       "2   Madhav   35  Mumbai         MTECH\n",
       "3    Mukul   25    Agra          B.SC\n",
       "4    Rohit   21  Nashik            CS\n",
       "5   Mayuri   20  Nagpur         B.COM\n",
       "6  Manjiri   30    Pune           B.E\n",
       "7    Rucha   35  Mumbai         M.COM\n",
       "8    Sanvi   25    Agra          B.SC\n",
       "9     Mona   21  Nashik            CS"
      ]
     },
     "execution_count": 8,
     "metadata": {},
     "output_type": "execute_result"
    }
   ],
   "source": [
    "df2 = pd.DataFrame(data1,index=['5','6','7','8','9'])\n",
    "frames = [df1,df2]\n",
    "d1 = pd.concat(frames)\n",
    "d1"
   ]
  },
  {
   "cell_type": "code",
   "execution_count": null,
   "metadata": {},
   "outputs": [],
   "source": []
  }
 ],
 "metadata": {
  "kernelspec": {
   "display_name": "Python 3",
   "language": "python",
   "name": "python3"
  },
  "language_info": {
   "codemirror_mode": {
    "name": "ipython",
    "version": 3
   },
   "file_extension": ".py",
   "mimetype": "text/x-python",
   "name": "python",
   "nbconvert_exporter": "python",
   "pygments_lexer": "ipython3",
   "version": "3.7.4"
  }
 },
 "nbformat": 4,
 "nbformat_minor": 2
}
